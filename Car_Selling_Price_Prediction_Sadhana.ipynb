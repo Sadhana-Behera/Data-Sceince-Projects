{
 "cells": [
  {
   "cell_type": "markdown",
   "id": "6809f6d0",
   "metadata": {},
   "source": [
    "#### Import the Libraries"
   ]
  },
  {
   "cell_type": "code",
   "execution_count": 1,
   "id": "1f7d784c",
   "metadata": {},
   "outputs": [],
   "source": [
    "import pandas as pd\n",
    "import numpy as np\n",
    "import matplotlib.pyplot as plt\n",
    "import seaborn as sns"
   ]
  },
  {
   "cell_type": "markdown",
   "id": "417e5171",
   "metadata": {},
   "source": [
    "#### Read The Dataset"
   ]
  },
  {
   "cell_type": "code",
   "execution_count": 2,
   "id": "af86df7d",
   "metadata": {},
   "outputs": [
    {
     "data": {
      "text/html": [
       "<div>\n",
       "<style scoped>\n",
       "    .dataframe tbody tr th:only-of-type {\n",
       "        vertical-align: middle;\n",
       "    }\n",
       "\n",
       "    .dataframe tbody tr th {\n",
       "        vertical-align: top;\n",
       "    }\n",
       "\n",
       "    .dataframe thead th {\n",
       "        text-align: right;\n",
       "    }\n",
       "</style>\n",
       "<table border=\"1\" class=\"dataframe\">\n",
       "  <thead>\n",
       "    <tr style=\"text-align: right;\">\n",
       "      <th></th>\n",
       "      <th>name</th>\n",
       "      <th>year</th>\n",
       "      <th>selling_price</th>\n",
       "      <th>km_driven</th>\n",
       "      <th>fuel</th>\n",
       "      <th>seller_type</th>\n",
       "      <th>transmission</th>\n",
       "      <th>owner</th>\n",
       "    </tr>\n",
       "  </thead>\n",
       "  <tbody>\n",
       "    <tr>\n",
       "      <th>0</th>\n",
       "      <td>Maruti 800 AC</td>\n",
       "      <td>2007</td>\n",
       "      <td>60000</td>\n",
       "      <td>70000</td>\n",
       "      <td>Petrol</td>\n",
       "      <td>Individual</td>\n",
       "      <td>Manual</td>\n",
       "      <td>First Owner</td>\n",
       "    </tr>\n",
       "    <tr>\n",
       "      <th>1</th>\n",
       "      <td>Maruti Wagon R LXI Minor</td>\n",
       "      <td>2007</td>\n",
       "      <td>135000</td>\n",
       "      <td>50000</td>\n",
       "      <td>Petrol</td>\n",
       "      <td>Individual</td>\n",
       "      <td>Manual</td>\n",
       "      <td>First Owner</td>\n",
       "    </tr>\n",
       "    <tr>\n",
       "      <th>2</th>\n",
       "      <td>Hyundai Verna 1.6 SX</td>\n",
       "      <td>2012</td>\n",
       "      <td>600000</td>\n",
       "      <td>100000</td>\n",
       "      <td>Diesel</td>\n",
       "      <td>Individual</td>\n",
       "      <td>Manual</td>\n",
       "      <td>First Owner</td>\n",
       "    </tr>\n",
       "    <tr>\n",
       "      <th>3</th>\n",
       "      <td>Datsun RediGO T Option</td>\n",
       "      <td>2017</td>\n",
       "      <td>250000</td>\n",
       "      <td>46000</td>\n",
       "      <td>Petrol</td>\n",
       "      <td>Individual</td>\n",
       "      <td>Manual</td>\n",
       "      <td>First Owner</td>\n",
       "    </tr>\n",
       "    <tr>\n",
       "      <th>4</th>\n",
       "      <td>Honda Amaze VX i-DTEC</td>\n",
       "      <td>2014</td>\n",
       "      <td>450000</td>\n",
       "      <td>141000</td>\n",
       "      <td>Diesel</td>\n",
       "      <td>Individual</td>\n",
       "      <td>Manual</td>\n",
       "      <td>Second Owner</td>\n",
       "    </tr>\n",
       "  </tbody>\n",
       "</table>\n",
       "</div>"
      ],
      "text/plain": [
       "                       name  year  selling_price  km_driven    fuel  \\\n",
       "0             Maruti 800 AC  2007          60000      70000  Petrol   \n",
       "1  Maruti Wagon R LXI Minor  2007         135000      50000  Petrol   \n",
       "2      Hyundai Verna 1.6 SX  2012         600000     100000  Diesel   \n",
       "3    Datsun RediGO T Option  2017         250000      46000  Petrol   \n",
       "4     Honda Amaze VX i-DTEC  2014         450000     141000  Diesel   \n",
       "\n",
       "  seller_type transmission         owner  \n",
       "0  Individual       Manual   First Owner  \n",
       "1  Individual       Manual   First Owner  \n",
       "2  Individual       Manual   First Owner  \n",
       "3  Individual       Manual   First Owner  \n",
       "4  Individual       Manual  Second Owner  "
      ]
     },
     "execution_count": 2,
     "metadata": {},
     "output_type": "execute_result"
    }
   ],
   "source": [
    "df = pd.read_csv('CAR_DETAILS.csv')\n",
    "df.head()"
   ]
  },
  {
   "cell_type": "code",
   "execution_count": 3,
   "id": "080a75b5",
   "metadata": {},
   "outputs": [
    {
     "data": {
      "text/plain": [
       "(4340, 8)"
      ]
     },
     "execution_count": 3,
     "metadata": {},
     "output_type": "execute_result"
    }
   ],
   "source": [
    "df.shape\n",
    "# rows:4340,cols:8"
   ]
  },
  {
   "cell_type": "markdown",
   "id": "ef8f0108",
   "metadata": {},
   "source": [
    "#### Data preprocessing"
   ]
  },
  {
   "cell_type": "markdown",
   "id": "6f1b1497",
   "metadata": {},
   "source": [
    "##### 1) Handle Null values"
   ]
  },
  {
   "cell_type": "code",
   "execution_count": 4,
   "id": "2493b6fd",
   "metadata": {},
   "outputs": [
    {
     "data": {
      "text/plain": [
       "Series([], dtype: int64)"
      ]
     },
     "execution_count": 4,
     "metadata": {},
     "output_type": "execute_result"
    }
   ],
   "source": [
    "nv = df.isnull().sum()\n",
    "nv = nv[nv>0]\n",
    "nv"
   ]
  },
  {
   "cell_type": "markdown",
   "id": "44cf83ac",
   "metadata": {},
   "source": [
    "##### 2) Checking Redunant Features"
   ]
  },
  {
   "cell_type": "code",
   "execution_count": 5,
   "id": "bee0d77d",
   "metadata": {},
   "outputs": [
    {
     "name": "stdout",
     "output_type": "stream",
     "text": [
      "Index(['name', 'year', 'selling_price', 'km_driven', 'fuel', 'seller_type',\n",
      "       'transmission', 'owner'],\n",
      "      dtype='object')\n"
     ]
    },
    {
     "data": {
      "text/html": [
       "<div>\n",
       "<style scoped>\n",
       "    .dataframe tbody tr th:only-of-type {\n",
       "        vertical-align: middle;\n",
       "    }\n",
       "\n",
       "    .dataframe tbody tr th {\n",
       "        vertical-align: top;\n",
       "    }\n",
       "\n",
       "    .dataframe thead th {\n",
       "        text-align: right;\n",
       "    }\n",
       "</style>\n",
       "<table border=\"1\" class=\"dataframe\">\n",
       "  <thead>\n",
       "    <tr style=\"text-align: right;\">\n",
       "      <th></th>\n",
       "      <th>name</th>\n",
       "      <th>year</th>\n",
       "      <th>selling_price</th>\n",
       "      <th>km_driven</th>\n",
       "      <th>fuel</th>\n",
       "      <th>seller_type</th>\n",
       "      <th>transmission</th>\n",
       "      <th>owner</th>\n",
       "    </tr>\n",
       "  </thead>\n",
       "  <tbody>\n",
       "    <tr>\n",
       "      <th>0</th>\n",
       "      <td>Maruti</td>\n",
       "      <td>2007</td>\n",
       "      <td>60000</td>\n",
       "      <td>70000</td>\n",
       "      <td>Petrol</td>\n",
       "      <td>Individual</td>\n",
       "      <td>Manual</td>\n",
       "      <td>First Owner</td>\n",
       "    </tr>\n",
       "    <tr>\n",
       "      <th>1</th>\n",
       "      <td>Maruti</td>\n",
       "      <td>2007</td>\n",
       "      <td>135000</td>\n",
       "      <td>50000</td>\n",
       "      <td>Petrol</td>\n",
       "      <td>Individual</td>\n",
       "      <td>Manual</td>\n",
       "      <td>First Owner</td>\n",
       "    </tr>\n",
       "    <tr>\n",
       "      <th>2</th>\n",
       "      <td>Hyundai</td>\n",
       "      <td>2012</td>\n",
       "      <td>600000</td>\n",
       "      <td>100000</td>\n",
       "      <td>Diesel</td>\n",
       "      <td>Individual</td>\n",
       "      <td>Manual</td>\n",
       "      <td>First Owner</td>\n",
       "    </tr>\n",
       "    <tr>\n",
       "      <th>3</th>\n",
       "      <td>Datsun</td>\n",
       "      <td>2017</td>\n",
       "      <td>250000</td>\n",
       "      <td>46000</td>\n",
       "      <td>Petrol</td>\n",
       "      <td>Individual</td>\n",
       "      <td>Manual</td>\n",
       "      <td>First Owner</td>\n",
       "    </tr>\n",
       "    <tr>\n",
       "      <th>4</th>\n",
       "      <td>Honda</td>\n",
       "      <td>2014</td>\n",
       "      <td>450000</td>\n",
       "      <td>141000</td>\n",
       "      <td>Diesel</td>\n",
       "      <td>Individual</td>\n",
       "      <td>Manual</td>\n",
       "      <td>Second Owner</td>\n",
       "    </tr>\n",
       "  </tbody>\n",
       "</table>\n",
       "</div>"
      ],
      "text/plain": [
       "      name  year  selling_price  km_driven    fuel seller_type transmission  \\\n",
       "0   Maruti  2007          60000      70000  Petrol  Individual       Manual   \n",
       "1   Maruti  2007         135000      50000  Petrol  Individual       Manual   \n",
       "2  Hyundai  2012         600000     100000  Diesel  Individual       Manual   \n",
       "3   Datsun  2017         250000      46000  Petrol  Individual       Manual   \n",
       "4    Honda  2014         450000     141000  Diesel  Individual       Manual   \n",
       "\n",
       "          owner  \n",
       "0   First Owner  \n",
       "1   First Owner  \n",
       "2   First Owner  \n",
       "3   First Owner  \n",
       "4  Second Owner  "
      ]
     },
     "execution_count": 5,
     "metadata": {},
     "output_type": "execute_result"
    }
   ],
   "source": [
    "df[\"name\"] = df.name.apply(lambda x: x.split()[0]) ## Replacing Car name with brand name\n",
    "\n",
    "print(df.columns)\n",
    "df.head()"
   ]
  },
  {
   "cell_type": "markdown",
   "id": "02000d15",
   "metadata": {},
   "source": [
    "##### 3) Handling Duplicates"
   ]
  },
  {
   "cell_type": "code",
   "execution_count": 6,
   "id": "66051b69",
   "metadata": {},
   "outputs": [
    {
     "data": {
      "text/plain": [
       "790"
      ]
     },
     "execution_count": 6,
     "metadata": {},
     "output_type": "execute_result"
    }
   ],
   "source": [
    "df.duplicated().sum()"
   ]
  },
  {
   "cell_type": "code",
   "execution_count": 7,
   "id": "40a93a55",
   "metadata": {},
   "outputs": [
    {
     "data": {
      "text/plain": [
       "0"
      ]
     },
     "execution_count": 7,
     "metadata": {},
     "output_type": "execute_result"
    }
   ],
   "source": [
    "df.drop_duplicates(inplace=True)\n",
    "df.duplicated().sum()"
   ]
  },
  {
   "cell_type": "code",
   "execution_count": 8,
   "id": "4cf2ca67",
   "metadata": {},
   "outputs": [
    {
     "data": {
      "text/html": [
       "<div>\n",
       "<style scoped>\n",
       "    .dataframe tbody tr th:only-of-type {\n",
       "        vertical-align: middle;\n",
       "    }\n",
       "\n",
       "    .dataframe tbody tr th {\n",
       "        vertical-align: top;\n",
       "    }\n",
       "\n",
       "    .dataframe thead th {\n",
       "        text-align: right;\n",
       "    }\n",
       "</style>\n",
       "<table border=\"1\" class=\"dataframe\">\n",
       "  <thead>\n",
       "    <tr style=\"text-align: right;\">\n",
       "      <th></th>\n",
       "      <th>name</th>\n",
       "      <th>year</th>\n",
       "      <th>selling_price</th>\n",
       "      <th>km_driven</th>\n",
       "      <th>fuel</th>\n",
       "      <th>seller_type</th>\n",
       "      <th>transmission</th>\n",
       "      <th>owner</th>\n",
       "    </tr>\n",
       "  </thead>\n",
       "  <tbody>\n",
       "    <tr>\n",
       "      <th>0</th>\n",
       "      <td>Maruti</td>\n",
       "      <td>2007</td>\n",
       "      <td>60000</td>\n",
       "      <td>70000</td>\n",
       "      <td>Petrol</td>\n",
       "      <td>Individual</td>\n",
       "      <td>Manual</td>\n",
       "      <td>First Owner</td>\n",
       "    </tr>\n",
       "    <tr>\n",
       "      <th>1</th>\n",
       "      <td>Maruti</td>\n",
       "      <td>2007</td>\n",
       "      <td>135000</td>\n",
       "      <td>50000</td>\n",
       "      <td>Petrol</td>\n",
       "      <td>Individual</td>\n",
       "      <td>Manual</td>\n",
       "      <td>First Owner</td>\n",
       "    </tr>\n",
       "    <tr>\n",
       "      <th>2</th>\n",
       "      <td>Hyundai</td>\n",
       "      <td>2012</td>\n",
       "      <td>600000</td>\n",
       "      <td>100000</td>\n",
       "      <td>Diesel</td>\n",
       "      <td>Individual</td>\n",
       "      <td>Manual</td>\n",
       "      <td>First Owner</td>\n",
       "    </tr>\n",
       "    <tr>\n",
       "      <th>3</th>\n",
       "      <td>Datsun</td>\n",
       "      <td>2017</td>\n",
       "      <td>250000</td>\n",
       "      <td>46000</td>\n",
       "      <td>Petrol</td>\n",
       "      <td>Individual</td>\n",
       "      <td>Manual</td>\n",
       "      <td>First Owner</td>\n",
       "    </tr>\n",
       "    <tr>\n",
       "      <th>4</th>\n",
       "      <td>Honda</td>\n",
       "      <td>2014</td>\n",
       "      <td>450000</td>\n",
       "      <td>141000</td>\n",
       "      <td>Diesel</td>\n",
       "      <td>Individual</td>\n",
       "      <td>Manual</td>\n",
       "      <td>Second Owner</td>\n",
       "    </tr>\n",
       "  </tbody>\n",
       "</table>\n",
       "</div>"
      ],
      "text/plain": [
       "      name  year  selling_price  km_driven    fuel seller_type transmission  \\\n",
       "0   Maruti  2007          60000      70000  Petrol  Individual       Manual   \n",
       "1   Maruti  2007         135000      50000  Petrol  Individual       Manual   \n",
       "2  Hyundai  2012         600000     100000  Diesel  Individual       Manual   \n",
       "3   Datsun  2017         250000      46000  Petrol  Individual       Manual   \n",
       "4    Honda  2014         450000     141000  Diesel  Individual       Manual   \n",
       "\n",
       "          owner  \n",
       "0   First Owner  \n",
       "1   First Owner  \n",
       "2   First Owner  \n",
       "3   First Owner  \n",
       "4  Second Owner  "
      ]
     },
     "execution_count": 8,
     "metadata": {},
     "output_type": "execute_result"
    }
   ],
   "source": [
    "df.head()"
   ]
  },
  {
   "cell_type": "code",
   "execution_count": 9,
   "id": "cf2b169d",
   "metadata": {},
   "outputs": [
    {
     "data": {
      "text/html": [
       "<div>\n",
       "<style scoped>\n",
       "    .dataframe tbody tr th:only-of-type {\n",
       "        vertical-align: middle;\n",
       "    }\n",
       "\n",
       "    .dataframe tbody tr th {\n",
       "        vertical-align: top;\n",
       "    }\n",
       "\n",
       "    .dataframe thead th {\n",
       "        text-align: right;\n",
       "    }\n",
       "</style>\n",
       "<table border=\"1\" class=\"dataframe\">\n",
       "  <thead>\n",
       "    <tr style=\"text-align: right;\">\n",
       "      <th></th>\n",
       "      <th>year</th>\n",
       "      <th>selling_price</th>\n",
       "      <th>km_driven</th>\n",
       "    </tr>\n",
       "  </thead>\n",
       "  <tbody>\n",
       "    <tr>\n",
       "      <th>count</th>\n",
       "      <td>3550.000000</td>\n",
       "      <td>3.550000e+03</td>\n",
       "      <td>3550.000000</td>\n",
       "    </tr>\n",
       "    <tr>\n",
       "      <th>mean</th>\n",
       "      <td>2012.956901</td>\n",
       "      <td>4.746099e+05</td>\n",
       "      <td>69380.056901</td>\n",
       "    </tr>\n",
       "    <tr>\n",
       "      <th>std</th>\n",
       "      <td>4.252141</td>\n",
       "      <td>5.108341e+05</td>\n",
       "      <td>47647.754330</td>\n",
       "    </tr>\n",
       "    <tr>\n",
       "      <th>min</th>\n",
       "      <td>1992.000000</td>\n",
       "      <td>2.000000e+04</td>\n",
       "      <td>1.000000</td>\n",
       "    </tr>\n",
       "    <tr>\n",
       "      <th>25%</th>\n",
       "      <td>2010.000000</td>\n",
       "      <td>2.000000e+05</td>\n",
       "      <td>36000.000000</td>\n",
       "    </tr>\n",
       "    <tr>\n",
       "      <th>50%</th>\n",
       "      <td>2013.000000</td>\n",
       "      <td>3.500000e+05</td>\n",
       "      <td>60658.000000</td>\n",
       "    </tr>\n",
       "    <tr>\n",
       "      <th>75%</th>\n",
       "      <td>2016.000000</td>\n",
       "      <td>6.000000e+05</td>\n",
       "      <td>90000.000000</td>\n",
       "    </tr>\n",
       "    <tr>\n",
       "      <th>max</th>\n",
       "      <td>2020.000000</td>\n",
       "      <td>8.900000e+06</td>\n",
       "      <td>806599.000000</td>\n",
       "    </tr>\n",
       "  </tbody>\n",
       "</table>\n",
       "</div>"
      ],
      "text/plain": [
       "              year  selling_price      km_driven\n",
       "count  3550.000000   3.550000e+03    3550.000000\n",
       "mean   2012.956901   4.746099e+05   69380.056901\n",
       "std       4.252141   5.108341e+05   47647.754330\n",
       "min    1992.000000   2.000000e+04       1.000000\n",
       "25%    2010.000000   2.000000e+05   36000.000000\n",
       "50%    2013.000000   3.500000e+05   60658.000000\n",
       "75%    2016.000000   6.000000e+05   90000.000000\n",
       "max    2020.000000   8.900000e+06  806599.000000"
      ]
     },
     "execution_count": 9,
     "metadata": {},
     "output_type": "execute_result"
    }
   ],
   "source": [
    "df.describe()"
   ]
  },
  {
   "cell_type": "markdown",
   "id": "2ad5c685",
   "metadata": {},
   "source": [
    "##### 4) Check Data Type"
   ]
  },
  {
   "cell_type": "code",
   "execution_count": 10,
   "id": "11798c6d",
   "metadata": {},
   "outputs": [
    {
     "data": {
      "text/plain": [
       "name             object\n",
       "year              int64\n",
       "selling_price     int64\n",
       "km_driven         int64\n",
       "fuel             object\n",
       "seller_type      object\n",
       "transmission     object\n",
       "owner            object\n",
       "dtype: object"
      ]
     },
     "execution_count": 10,
     "metadata": {},
     "output_type": "execute_result"
    }
   ],
   "source": [
    "df.dtypes"
   ]
  },
  {
   "cell_type": "markdown",
   "id": "9c214459",
   "metadata": {},
   "source": [
    "##### Separate Numerical and Categorial features"
   ]
  },
  {
   "cell_type": "code",
   "execution_count": 11,
   "id": "cf176c09",
   "metadata": {},
   "outputs": [
    {
     "name": "stdout",
     "output_type": "stream",
     "text": [
      "Index(['name', 'fuel', 'seller_type', 'transmission', 'owner'], dtype='object')\n",
      "Index(['year', 'selling_price', 'km_driven'], dtype='object')\n"
     ]
    }
   ],
   "source": [
    "cat_cols = df.dtypes[df.dtypes=='object'].index\n",
    "num_cols = df.dtypes[df.dtypes!='object'].index\n",
    "print(cat_cols)\n",
    "print(num_cols)"
   ]
  },
  {
   "cell_type": "code",
   "execution_count": 12,
   "id": "2005ab9f",
   "metadata": {},
   "outputs": [
    {
     "name": "stdout",
     "output_type": "stream",
     "text": [
      "Feature name | Unique Count  29\n",
      "Feature fuel | Unique Count  5\n",
      "Feature seller_type | Unique Count  3\n",
      "Feature transmission | Unique Count  2\n",
      "Feature owner | Unique Count  5\n"
     ]
    }
   ],
   "source": [
    "for i in cat_cols:\n",
    "    print(f'Feature {i} | Unique Count  {df[i].nunique()}')"
   ]
  },
  {
   "cell_type": "markdown",
   "id": "aaed7d72",
   "metadata": {},
   "source": [
    "#### EDA:"
   ]
  },
  {
   "cell_type": "code",
   "execution_count": 13,
   "id": "31d857a8",
   "metadata": {},
   "outputs": [
    {
     "data": {
      "image/png": "[encoded data removed]",
      "text/plain": [
       "<Figure size 1200x1100 with 4 Axes>"
      ]
     },
     "metadata": {},
     "output_type": "display_data"
    }
   ],
   "source": [
    "cols = ['fuel', 'seller_type', 'transmission', 'owner']\n",
    "plt.figure(figsize=(12,11))\n",
    "for i in range(len(cols)):\n",
    "    plt.subplot(2,2,i+1)\n",
    "    sns.countplot(x=df[cols[i]])\n",
    "    plt.title(f'Countplot for {cols[i]}')\n",
    "plt.show()"
   ]
  },
  {
   "cell_type": "code",
   "execution_count": 14,
   "id": "da282b85",
   "metadata": {},
   "outputs": [
    {
     "data": {
      "image/png": "[encoded data removed]",
      "text/plain": [
       "<Figure size 1000x1000 with 3 Axes>"
      ]
     },
     "metadata": {},
     "output_type": "display_data"
    }
   ],
   "source": [
    "# Observing the distribution of numeric columns\n",
    "plt.figure(figsize=(10, 10))\n",
    "plt.subplot(3, 1, 1)\n",
    "sns.histplot(x=\"selling_price\", data=df, kde=True, label=\"selling_price\")\n",
    "plt.legend()\n",
    "plt.subplot(3, 1, 2)\n",
    "sns.histplot(x=\"year\", data=df, kde=True, label=\"Year\")\n",
    "plt.legend()\n",
    "plt.subplot(3, 1, 3)\n",
    "sns.histplot(x=\"km_driven\", data=df, kde=True)\n",
    "plt.show()"
   ]
  },
  {
   "cell_type": "code",
   "execution_count": 15,
   "id": "e4b6a670",
   "metadata": {},
   "outputs": [
    {
     "data": {
      "image/png": "[encoded data removed]",
      "text/plain": [
       "<Figure size 640x480 with 1 Axes>"
      ]
     },
     "metadata": {},
     "output_type": "display_data"
    }
   ],
   "source": [
    "sns.countplot(y = df['name'],\n",
    "              order=df['name'].value_counts().sort_values(ascending=False).index)\n",
    "plt.show()"
   ]
  },
  {
   "cell_type": "code",
   "execution_count": 16,
   "id": "dfd0235b",
   "metadata": {},
   "outputs": [
    {
     "data": {
      "image/png": "[encoded data removed]",
      "text/plain": [
       "<Figure size 1200x1100 with 4 Axes>"
      ]
     },
     "metadata": {},
     "output_type": "display_data"
    }
   ],
   "source": [
    "cols = ['fuel', 'seller_type', 'transmission', 'owner']\n",
    "plt.figure(figsize=(12,11))\n",
    "for i in range(len(cols)):\n",
    "    plt.subplot(2,2,i+1)\n",
    "    sns.boxplot(x =df['selling_price'], y=df[cols[i]])\n",
    "    plt.title(f'Boxplot for {cols[i]} wrt Selling Price')\n",
    "plt.show()"
   ]
  },
  {
   "cell_type": "markdown",
   "id": "1cd60e18",
   "metadata": {},
   "source": [
    "##### Outlier Removal"
   ]
  },
  {
   "cell_type": "code",
   "execution_count": 17,
   "id": "c31d7344",
   "metadata": {},
   "outputs": [
    {
     "name": "stdout",
     "output_type": "stream",
     "text": [
      "Feature year | Unique Count  27\n",
      "Feature selling_price | Unique Count  445\n",
      "Feature km_driven | Unique Count  770\n"
     ]
    }
   ],
   "source": [
    "for i in num_cols:\n",
    "    print(f'Feature {i} | Unique Count  {df[i].nunique()}')"
   ]
  },
  {
   "cell_type": "code",
   "execution_count": 18,
   "id": "4d534b28",
   "metadata": {},
   "outputs": [
    {
     "data": {
      "text/html": [
       "<div>\n",
       "<style scoped>\n",
       "    .dataframe tbody tr th:only-of-type {\n",
       "        vertical-align: middle;\n",
       "    }\n",
       "\n",
       "    .dataframe tbody tr th {\n",
       "        vertical-align: top;\n",
       "    }\n",
       "\n",
       "    .dataframe thead th {\n",
       "        text-align: right;\n",
       "    }\n",
       "</style>\n",
       "<table border=\"1\" class=\"dataframe\">\n",
       "  <thead>\n",
       "    <tr style=\"text-align: right;\">\n",
       "      <th></th>\n",
       "      <th>km_driven</th>\n",
       "      <th>selling_price</th>\n",
       "    </tr>\n",
       "  </thead>\n",
       "  <tbody>\n",
       "    <tr>\n",
       "      <th>km_driven</th>\n",
       "      <td>1.00000</td>\n",
       "      <td>-0.18784</td>\n",
       "    </tr>\n",
       "    <tr>\n",
       "      <th>selling_price</th>\n",
       "      <td>-0.18784</td>\n",
       "      <td>1.00000</td>\n",
       "    </tr>\n",
       "  </tbody>\n",
       "</table>\n",
       "</div>"
      ],
      "text/plain": [
       "               km_driven  selling_price\n",
       "km_driven        1.00000       -0.18784\n",
       "selling_price   -0.18784        1.00000"
      ]
     },
     "execution_count": 18,
     "metadata": {},
     "output_type": "execute_result"
    }
   ],
   "source": [
    "corr = df[['km_driven','selling_price']].corr()\n",
    "corr"
   ]
  },
  {
   "cell_type": "code",
   "execution_count": 20,
   "id": "76e2707c",
   "metadata": {},
   "outputs": [
    {
     "data": {
      "text/html": [
       "<div>\n",
       "<style scoped>\n",
       "    .dataframe tbody tr th:only-of-type {\n",
       "        vertical-align: middle;\n",
       "    }\n",
       "\n",
       "    .dataframe tbody tr th {\n",
       "        vertical-align: top;\n",
       "    }\n",
       "\n",
       "    .dataframe thead th {\n",
       "        text-align: right;\n",
       "    }\n",
       "</style>\n",
       "<table border=\"1\" class=\"dataframe\">\n",
       "  <thead>\n",
       "    <tr style=\"text-align: right;\">\n",
       "      <th></th>\n",
       "      <th>min</th>\n",
       "      <th>1%</th>\n",
       "      <th>2%</th>\n",
       "      <th>3%</th>\n",
       "      <th>5%</th>\n",
       "      <th>50%</th>\n",
       "      <th>95%</th>\n",
       "      <th>97%</th>\n",
       "      <th>98%</th>\n",
       "      <th>99%</th>\n",
       "      <th>max</th>\n",
       "    </tr>\n",
       "  </thead>\n",
       "  <tbody>\n",
       "    <tr>\n",
       "      <th>year</th>\n",
       "      <td>1992.0</td>\n",
       "      <td>2000.00</td>\n",
       "      <td>2002.98</td>\n",
       "      <td>2004.0</td>\n",
       "      <td>2005.0</td>\n",
       "      <td>2013.0</td>\n",
       "      <td>2019.0</td>\n",
       "      <td>2019.0</td>\n",
       "      <td>2019.0</td>\n",
       "      <td>2020.0</td>\n",
       "      <td>2020.0</td>\n",
       "    </tr>\n",
       "    <tr>\n",
       "      <th>selling_price</th>\n",
       "      <td>20000.0</td>\n",
       "      <td>51546.61</td>\n",
       "      <td>60000.00</td>\n",
       "      <td>70000.0</td>\n",
       "      <td>80000.0</td>\n",
       "      <td>350000.0</td>\n",
       "      <td>1200000.0</td>\n",
       "      <td>1500000.0</td>\n",
       "      <td>1800500.0</td>\n",
       "      <td>2675000.0</td>\n",
       "      <td>8900000.0</td>\n",
       "    </tr>\n",
       "    <tr>\n",
       "      <th>km_driven</th>\n",
       "      <td>1.0</td>\n",
       "      <td>1728.42</td>\n",
       "      <td>5000.00</td>\n",
       "      <td>7000.0</td>\n",
       "      <td>10000.0</td>\n",
       "      <td>60658.0</td>\n",
       "      <td>149853.3</td>\n",
       "      <td>170000.0</td>\n",
       "      <td>195000.0</td>\n",
       "      <td>223336.6</td>\n",
       "      <td>806599.0</td>\n",
       "    </tr>\n",
       "  </tbody>\n",
       "</table>\n",
       "</div>"
      ],
      "text/plain": [
       "                   min        1%        2%       3%       5%       50%  \\\n",
       "year            1992.0   2000.00   2002.98   2004.0   2005.0    2013.0   \n",
       "selling_price  20000.0  51546.61  60000.00  70000.0  80000.0  350000.0   \n",
       "km_driven          1.0   1728.42   5000.00   7000.0  10000.0   60658.0   \n",
       "\n",
       "                     95%        97%        98%        99%        max  \n",
       "year              2019.0     2019.0     2019.0     2020.0     2020.0  \n",
       "selling_price  1200000.0  1500000.0  1800500.0  2675000.0  8900000.0  \n",
       "km_driven       149853.3   170000.0   195000.0   223336.6   806599.0  "
      ]
     },
     "execution_count": 20,
     "metadata": {},
     "output_type": "execute_result"
    }
   ],
   "source": [
    "temp=df.describe(percentiles=(0.01,0.02,0.03,0.05,0.95,0.97,0.98,0.99)).T\n",
    "temp=temp.iloc[:,3:]\n",
    "temp"
   ]
  },
  {
   "cell_type": "markdown",
   "id": "e32ef06a",
   "metadata": {},
   "source": [
    "##### outlier treatment"
   ]
  },
  {
   "cell_type": "code",
   "execution_count": 21,
   "id": "28486c97",
   "metadata": {},
   "outputs": [],
   "source": [
    "df['selling_price']=np.where(df[\"selling_price\"]>2675000.0,2675000.0,df['selling_price'])\n",
    "df['km_driven']=np.where(df['km_driven']>223336.6,223336.6,df['km_driven'])\n",
    "\n",
    "df['selling_price']=np.where(df[\"selling_price\"]<51546.61,51546.61,df['selling_price'])\n",
    "df['km_driven']=np.where(df['km_driven']<1728.42,1728.42,df['km_driven'])"
   ]
  },
  {
   "cell_type": "code",
   "execution_count": 22,
   "id": "2bbec383",
   "metadata": {},
   "outputs": [
    {
     "data": {
      "image/png": "[encoded data removed]",
      "text/plain": [
       "<Figure size 800x600 with 2 Axes>"
      ]
     },
     "metadata": {},
     "output_type": "display_data"
    }
   ],
   "source": [
    "plt.figure(figsize=(8, 6))\n",
    "\n",
    "sns.heatmap(df.corr(numeric_only=True), annot=True)\n",
    "plt.show()"
   ]
  },
  {
   "cell_type": "markdown",
   "id": "7f4e3cfc",
   "metadata": {},
   "source": [
    "#### Encoding categorical Features"
   ]
  },
  {
   "cell_type": "code",
   "execution_count": 23,
   "id": "8be24d76",
   "metadata": {},
   "outputs": [
    {
     "data": {
      "text/plain": [
       "Index(['name', 'fuel', 'seller_type', 'transmission', 'owner'], dtype='object')"
      ]
     },
     "execution_count": 23,
     "metadata": {},
     "output_type": "execute_result"
    }
   ],
   "source": [
    "cat_cols"
   ]
  },
  {
   "cell_type": "code",
   "execution_count": 24,
   "id": "741d412b",
   "metadata": {},
   "outputs": [
    {
     "name": "stdout",
     "output_type": "stream",
     "text": [
      "fuel\n",
      "Diesel      1789\n",
      "Petrol      1701\n",
      "CNG           37\n",
      "LPG           22\n",
      "Electric       1\n",
      "Name: count, dtype: int64\n",
      "seller_type\n",
      "Individual          2805\n",
      "Dealer               712\n",
      "Trustmark Dealer      33\n",
      "Name: count, dtype: int64\n",
      "transmission\n",
      "Manual       3238\n",
      "Automatic     312\n",
      "Name: count, dtype: int64\n",
      "owner\n",
      "First Owner             2199\n",
      "Second Owner             970\n",
      "Third Owner              289\n",
      "Fourth & Above Owner      75\n",
      "Test Drive Car            17\n",
      "Name: count, dtype: int64\n"
     ]
    }
   ],
   "source": [
    "print(df['fuel'].value_counts())\n",
    "print(df['seller_type'].value_counts())\n",
    "print(df['transmission'].value_counts())\n",
    "print(df['owner'].value_counts())"
   ]
  },
  {
   "cell_type": "code",
   "execution_count": 25,
   "id": "ae6a82ee",
   "metadata": {},
   "outputs": [],
   "source": [
    "from sklearn.preprocessing import LabelEncoder"
   ]
  },
  {
   "cell_type": "code",
   "execution_count": 26,
   "id": "5db47c4b",
   "metadata": {},
   "outputs": [],
   "source": [
    "lb = LabelEncoder()\n",
    "for i in ['fuel', 'seller_type', 'transmission', 'owner']:\n",
    "    df[i] = lb.fit_transform(df[i])"
   ]
  },
  {
   "cell_type": "code",
   "execution_count": 27,
   "id": "fc49ce63",
   "metadata": {},
   "outputs": [
    {
     "name": "stdout",
     "output_type": "stream",
     "text": [
      "fuel\n",
      "1    1789\n",
      "4    1701\n",
      "0      37\n",
      "3      22\n",
      "2       1\n",
      "Name: count, dtype: int64\n",
      "seller_type\n",
      "1    2805\n",
      "0     712\n",
      "2      33\n",
      "Name: count, dtype: int64\n",
      "transmission\n",
      "1    3238\n",
      "0     312\n",
      "Name: count, dtype: int64\n",
      "owner\n",
      "0    2199\n",
      "2     970\n",
      "4     289\n",
      "1      75\n",
      "3      17\n",
      "Name: count, dtype: int64\n"
     ]
    }
   ],
   "source": [
    "print(df['fuel'].value_counts()) # Diesel:1,Petrol:4,CNG:0,LPG:3,Electric:2\n",
    "print(df['seller_type'].value_counts()) # Individual:1,Dealer:0,Trustmark Dealer:2\n",
    "print(df['transmission'].value_counts()) # Manual:1,Automatic:0\n",
    "print(df['owner'].value_counts()) # First Owner:0,Second Owner:2,Third Owner:4,Fourth & Above Owner:1,Test Drive Car:3 "
   ]
  },
  {
   "cell_type": "code",
   "execution_count": 28,
   "id": "c4f7f700",
   "metadata": {},
   "outputs": [
    {
     "data": {
      "text/html": [
       "<div>\n",
       "<style scoped>\n",
       "    .dataframe tbody tr th:only-of-type {\n",
       "        vertical-align: middle;\n",
       "    }\n",
       "\n",
       "    .dataframe tbody tr th {\n",
       "        vertical-align: top;\n",
       "    }\n",
       "\n",
       "    .dataframe thead th {\n",
       "        text-align: right;\n",
       "    }\n",
       "</style>\n",
       "<table border=\"1\" class=\"dataframe\">\n",
       "  <thead>\n",
       "    <tr style=\"text-align: right;\">\n",
       "      <th></th>\n",
       "      <th>name</th>\n",
       "      <th>year</th>\n",
       "      <th>selling_price</th>\n",
       "      <th>km_driven</th>\n",
       "      <th>fuel</th>\n",
       "      <th>seller_type</th>\n",
       "      <th>transmission</th>\n",
       "      <th>owner</th>\n",
       "    </tr>\n",
       "  </thead>\n",
       "  <tbody>\n",
       "    <tr>\n",
       "      <th>0</th>\n",
       "      <td>Maruti</td>\n",
       "      <td>2007</td>\n",
       "      <td>60000.0</td>\n",
       "      <td>70000.0</td>\n",
       "      <td>4</td>\n",
       "      <td>1</td>\n",
       "      <td>1</td>\n",
       "      <td>0</td>\n",
       "    </tr>\n",
       "    <tr>\n",
       "      <th>1</th>\n",
       "      <td>Maruti</td>\n",
       "      <td>2007</td>\n",
       "      <td>135000.0</td>\n",
       "      <td>50000.0</td>\n",
       "      <td>4</td>\n",
       "      <td>1</td>\n",
       "      <td>1</td>\n",
       "      <td>0</td>\n",
       "    </tr>\n",
       "    <tr>\n",
       "      <th>2</th>\n",
       "      <td>Hyundai</td>\n",
       "      <td>2012</td>\n",
       "      <td>600000.0</td>\n",
       "      <td>100000.0</td>\n",
       "      <td>1</td>\n",
       "      <td>1</td>\n",
       "      <td>1</td>\n",
       "      <td>0</td>\n",
       "    </tr>\n",
       "    <tr>\n",
       "      <th>3</th>\n",
       "      <td>Datsun</td>\n",
       "      <td>2017</td>\n",
       "      <td>250000.0</td>\n",
       "      <td>46000.0</td>\n",
       "      <td>4</td>\n",
       "      <td>1</td>\n",
       "      <td>1</td>\n",
       "      <td>0</td>\n",
       "    </tr>\n",
       "    <tr>\n",
       "      <th>4</th>\n",
       "      <td>Honda</td>\n",
       "      <td>2014</td>\n",
       "      <td>450000.0</td>\n",
       "      <td>141000.0</td>\n",
       "      <td>1</td>\n",
       "      <td>1</td>\n",
       "      <td>1</td>\n",
       "      <td>2</td>\n",
       "    </tr>\n",
       "  </tbody>\n",
       "</table>\n",
       "</div>"
      ],
      "text/plain": [
       "      name  year  selling_price  km_driven  fuel  seller_type  transmission  \\\n",
       "0   Maruti  2007        60000.0    70000.0     4            1             1   \n",
       "1   Maruti  2007       135000.0    50000.0     4            1             1   \n",
       "2  Hyundai  2012       600000.0   100000.0     1            1             1   \n",
       "3   Datsun  2017       250000.0    46000.0     4            1             1   \n",
       "4    Honda  2014       450000.0   141000.0     1            1             1   \n",
       "\n",
       "   owner  \n",
       "0      0  \n",
       "1      0  \n",
       "2      0  \n",
       "3      0  \n",
       "4      2  "
      ]
     },
     "execution_count": 28,
     "metadata": {},
     "output_type": "execute_result"
    }
   ],
   "source": [
    "df.head()"
   ]
  },
  {
   "cell_type": "code",
   "execution_count": 29,
   "id": "ced6aeb3",
   "metadata": {},
   "outputs": [],
   "source": [
    "df_dum=df"
   ]
  },
  {
   "cell_type": "code",
   "execution_count": 30,
   "id": "baa837f7",
   "metadata": {},
   "outputs": [
    {
     "data": {
      "image/png": "[encoded data removed]",
      "text/plain": [
       "<Figure size 640x480 with 1 Axes>"
      ]
     },
     "metadata": {},
     "output_type": "display_data"
    }
   ],
   "source": [
    "sns.regplot(x=\"year\", y=\"selling_price\", data=df)\n",
    "plt.show()"
   ]
  },
  {
   "cell_type": "code",
   "execution_count": 148,
   "id": "36aeda8f",
   "metadata": {},
   "outputs": [
    {
     "name": "stdout",
     "output_type": "stream",
     "text": [
      "(3550, 35)\n"
     ]
    },
    {
     "data": {
      "text/plain": [
       "Index(['year', 'selling_price', 'km_driven', 'fuel', 'seller_type',\n",
       "       'transmission', 'owner', 'name_Audi', 'name_BMW', 'name_Chevrolet',\n",
       "       'name_Daewoo', 'name_Datsun', 'name_Fiat', 'name_Force', 'name_Ford',\n",
       "       'name_Honda', 'name_Hyundai', 'name_Isuzu', 'name_Jaguar', 'name_Jeep',\n",
       "       'name_Kia', 'name_Land', 'name_MG', 'name_Mahindra', 'name_Maruti',\n",
       "       'name_Mercedes-Benz', 'name_Mitsubishi', 'name_Nissan',\n",
       "       'name_OpelCorsa', 'name_Renault', 'name_Skoda', 'name_Tata',\n",
       "       'name_Toyota', 'name_Volkswagen', 'name_Volvo'],\n",
       "      dtype='object')"
      ]
     },
     "execution_count": 148,
     "metadata": {},
     "output_type": "execute_result"
    }
   ],
   "source": [
    "#dum_df=df\n",
    "#col=['name']\n",
    "#df_dum = pd.get_dummies(data=df,columns =col,drop_first=True)\n",
    "#print(df_dum.shape)\n",
    "#df_dum.columns"
   ]
  },
  {
   "cell_type": "markdown",
   "id": "4a2161c4",
   "metadata": {},
   "source": [
    "#### Select x and y"
   ]
  },
  {
   "cell_type": "code",
   "execution_count": 31,
   "id": "d3d8626d",
   "metadata": {},
   "outputs": [
    {
     "name": "stdout",
     "output_type": "stream",
     "text": [
      "(3550, 6)\n",
      "(3550,)\n"
     ]
    }
   ],
   "source": [
    "x = df_dum.drop(['name','selling_price'],axis=1)\n",
    "y = df_dum['selling_price']\n",
    "print(x.shape)\n",
    "print(y.shape)"
   ]
  },
  {
   "cell_type": "markdown",
   "id": "0a17c844",
   "metadata": {},
   "source": [
    "#### Split data into train and test"
   ]
  },
  {
   "cell_type": "code",
   "execution_count": 32,
   "id": "73f18eee",
   "metadata": {},
   "outputs": [],
   "source": [
    "from sklearn.model_selection import train_test_split"
   ]
  },
  {
   "cell_type": "code",
   "execution_count": 33,
   "id": "e39b1a8a",
   "metadata": {},
   "outputs": [
    {
     "name": "stdout",
     "output_type": "stream",
     "text": [
      "(2485, 6)\n",
      "(1065, 6)\n",
      "(2485,)\n",
      "(1065,)\n"
     ]
    }
   ],
   "source": [
    "x_train, x_test, y_train, y_test = train_test_split(x,y,test_size=0.3,random_state=42)\n",
    "print(x_train.shape)\n",
    "print(x_test.shape)\n",
    "print(y_train.shape)\n",
    "print(y_test.shape)"
   ]
  },
  {
   "cell_type": "markdown",
   "id": "2d8a5188",
   "metadata": {},
   "source": [
    "##### Create Function for model Evaluation"
   ]
  },
  {
   "cell_type": "code",
   "execution_count": 34,
   "id": "7cbd50c8",
   "metadata": {},
   "outputs": [],
   "source": [
    "from sklearn.metrics import *"
   ]
  },
  {
   "cell_type": "code",
   "execution_count": 35,
   "id": "dc7b7c1b",
   "metadata": {},
   "outputs": [],
   "source": [
    "def eval_model(model,x_train,y_train,x_test,y_test,mname):\n",
    "    model.fit(x_train,y_train)\n",
    "    ypred = model.predict(x_test)\n",
    "    train_r2 = model.score(x_train,y_train) \n",
    "    test_r2 = model.score(x_test,y_test)\n",
    "    test_mae = mean_absolute_error(y_test,ypred)\n",
    "    test_mse = mean_squared_error(y_test,ypred)\n",
    "    test_rmse = np.sqrt(test_mse)\n",
    "    data = {'Train_R2':train_r2,'Test_R2':test_r2,'Test_MAE':test_mae,\n",
    "          'Test_MSE':test_mse,'Test_RMSE':test_rmse}\n",
    "    res = pd.DataFrame(data,index=[mname])\n",
    "    return res"
   ]
  },
  {
   "cell_type": "markdown",
   "id": "f1cc3404",
   "metadata": {},
   "source": [
    "##### Import All Models"
   ]
  },
  {
   "cell_type": "code",
   "execution_count": 36,
   "id": "5f432d71",
   "metadata": {},
   "outputs": [],
   "source": [
    "from sklearn.linear_model import LinearRegression, Ridge, Lasso\n",
    "from sklearn.tree import DecisionTreeRegressor\n",
    "from sklearn.ensemble import RandomForestRegressor, BaggingRegressor, AdaBoostRegressor\n",
    "from sklearn.neighbors import KNeighborsRegressor"
   ]
  },
  {
   "cell_type": "markdown",
   "id": "428d1ff2",
   "metadata": {},
   "source": [
    "##### 1) Linear Regression"
   ]
  },
  {
   "cell_type": "code",
   "execution_count": 37,
   "id": "d32f8941",
   "metadata": {},
   "outputs": [
    {
     "data": {
      "text/html": [
       "<div>\n",
       "<style scoped>\n",
       "    .dataframe tbody tr th:only-of-type {\n",
       "        vertical-align: middle;\n",
       "    }\n",
       "\n",
       "    .dataframe tbody tr th {\n",
       "        vertical-align: top;\n",
       "    }\n",
       "\n",
       "    .dataframe thead th {\n",
       "        text-align: right;\n",
       "    }\n",
       "</style>\n",
       "<table border=\"1\" class=\"dataframe\">\n",
       "  <thead>\n",
       "    <tr style=\"text-align: right;\">\n",
       "      <th></th>\n",
       "      <th>Train_R2</th>\n",
       "      <th>Test_R2</th>\n",
       "      <th>Test_MAE</th>\n",
       "      <th>Test_MSE</th>\n",
       "      <th>Test_RMSE</th>\n",
       "    </tr>\n",
       "  </thead>\n",
       "  <tbody>\n",
       "    <tr>\n",
       "      <th>Lin_Reg</th>\n",
       "      <td>0.516201</td>\n",
       "      <td>0.505183</td>\n",
       "      <td>192829.064262</td>\n",
       "      <td>8.310390e+10</td>\n",
       "      <td>288277.46723</td>\n",
       "    </tr>\n",
       "  </tbody>\n",
       "</table>\n",
       "</div>"
      ],
      "text/plain": [
       "         Train_R2   Test_R2       Test_MAE      Test_MSE     Test_RMSE\n",
       "Lin_Reg  0.516201  0.505183  192829.064262  8.310390e+10  288277.46723"
      ]
     },
     "execution_count": 37,
     "metadata": {},
     "output_type": "execute_result"
    }
   ],
   "source": [
    "lr1 = LinearRegression()\n",
    "lr1_res = eval_model(lr1,x_train,y_train,x_test,y_test,'Lin_Reg')\n",
    "lr1_res"
   ]
  },
  {
   "cell_type": "markdown",
   "id": "b7b8a738",
   "metadata": {},
   "source": [
    "##### 2) Ridge"
   ]
  },
  {
   "cell_type": "code",
   "execution_count": 38,
   "id": "728b1614",
   "metadata": {},
   "outputs": [
    {
     "data": {
      "text/html": [
       "<div>\n",
       "<style scoped>\n",
       "    .dataframe tbody tr th:only-of-type {\n",
       "        vertical-align: middle;\n",
       "    }\n",
       "\n",
       "    .dataframe tbody tr th {\n",
       "        vertical-align: top;\n",
       "    }\n",
       "\n",
       "    .dataframe thead th {\n",
       "        text-align: right;\n",
       "    }\n",
       "</style>\n",
       "<table border=\"1\" class=\"dataframe\">\n",
       "  <thead>\n",
       "    <tr style=\"text-align: right;\">\n",
       "      <th></th>\n",
       "      <th>Train_R2</th>\n",
       "      <th>Test_R2</th>\n",
       "      <th>Test_MAE</th>\n",
       "      <th>Test_MSE</th>\n",
       "      <th>Test_RMSE</th>\n",
       "    </tr>\n",
       "  </thead>\n",
       "  <tbody>\n",
       "    <tr>\n",
       "      <th>Ridge</th>\n",
       "      <td>0.515946</td>\n",
       "      <td>0.507359</td>\n",
       "      <td>192471.64224</td>\n",
       "      <td>8.273843e+10</td>\n",
       "      <td>287642.880447</td>\n",
       "    </tr>\n",
       "  </tbody>\n",
       "</table>\n",
       "</div>"
      ],
      "text/plain": [
       "       Train_R2   Test_R2      Test_MAE      Test_MSE      Test_RMSE\n",
       "Ridge  0.515946  0.507359  192471.64224  8.273843e+10  287642.880447"
      ]
     },
     "execution_count": 38,
     "metadata": {},
     "output_type": "execute_result"
    }
   ],
   "source": [
    "rid1 = Ridge(alpha=7)\n",
    "rid1_res = eval_model(rid1,x_train,y_train,x_test,y_test,'Ridge')\n",
    "rid1_res"
   ]
  },
  {
   "cell_type": "markdown",
   "id": "26269f9f",
   "metadata": {},
   "source": [
    "##### 3) Lasso"
   ]
  },
  {
   "cell_type": "code",
   "execution_count": 39,
   "id": "6f7433c9",
   "metadata": {},
   "outputs": [
    {
     "data": {
      "text/html": [
       "<div>\n",
       "<style scoped>\n",
       "    .dataframe tbody tr th:only-of-type {\n",
       "        vertical-align: middle;\n",
       "    }\n",
       "\n",
       "    .dataframe tbody tr th {\n",
       "        vertical-align: top;\n",
       "    }\n",
       "\n",
       "    .dataframe thead th {\n",
       "        text-align: right;\n",
       "    }\n",
       "</style>\n",
       "<table border=\"1\" class=\"dataframe\">\n",
       "  <thead>\n",
       "    <tr style=\"text-align: right;\">\n",
       "      <th></th>\n",
       "      <th>Train_R2</th>\n",
       "      <th>Test_R2</th>\n",
       "      <th>Test_MAE</th>\n",
       "      <th>Test_MSE</th>\n",
       "      <th>Test_RMSE</th>\n",
       "    </tr>\n",
       "  </thead>\n",
       "  <tbody>\n",
       "    <tr>\n",
       "      <th>Lasso</th>\n",
       "      <td>0.5162</td>\n",
       "      <td>0.505218</td>\n",
       "      <td>192818.103841</td>\n",
       "      <td>8.309803e+10</td>\n",
       "      <td>288267.285243</td>\n",
       "    </tr>\n",
       "  </tbody>\n",
       "</table>\n",
       "</div>"
      ],
      "text/plain": [
       "       Train_R2   Test_R2       Test_MAE      Test_MSE      Test_RMSE\n",
       "Lasso    0.5162  0.505218  192818.103841  8.309803e+10  288267.285243"
      ]
     },
     "execution_count": 39,
     "metadata": {},
     "output_type": "execute_result"
    }
   ],
   "source": [
    "lasso1 = Lasso(alpha=45)\n",
    "lasso1_res = eval_model(lasso1,x_train,y_train,x_test,y_test,'Lasso')\n",
    "lasso1_res"
   ]
  },
  {
   "cell_type": "markdown",
   "id": "2f1988b0",
   "metadata": {},
   "source": [
    "##### 4) DT Reg"
   ]
  },
  {
   "cell_type": "code",
   "execution_count": 40,
   "id": "13affc6f",
   "metadata": {},
   "outputs": [
    {
     "data": {
      "text/html": [
       "<div>\n",
       "<style scoped>\n",
       "    .dataframe tbody tr th:only-of-type {\n",
       "        vertical-align: middle;\n",
       "    }\n",
       "\n",
       "    .dataframe tbody tr th {\n",
       "        vertical-align: top;\n",
       "    }\n",
       "\n",
       "    .dataframe thead th {\n",
       "        text-align: right;\n",
       "    }\n",
       "</style>\n",
       "<table border=\"1\" class=\"dataframe\">\n",
       "  <thead>\n",
       "    <tr style=\"text-align: right;\">\n",
       "      <th></th>\n",
       "      <th>Train_R2</th>\n",
       "      <th>Test_R2</th>\n",
       "      <th>Test_MAE</th>\n",
       "      <th>Test_MSE</th>\n",
       "      <th>Test_RMSE</th>\n",
       "    </tr>\n",
       "  </thead>\n",
       "  <tbody>\n",
       "    <tr>\n",
       "      <th>DT_Reg</th>\n",
       "      <td>0.705796</td>\n",
       "      <td>0.530569</td>\n",
       "      <td>163027.061051</td>\n",
       "      <td>7.884038e+10</td>\n",
       "      <td>280785.28729</td>\n",
       "    </tr>\n",
       "  </tbody>\n",
       "</table>\n",
       "</div>"
      ],
      "text/plain": [
       "        Train_R2   Test_R2       Test_MAE      Test_MSE     Test_RMSE\n",
       "DT_Reg  0.705796  0.530569  163027.061051  7.884038e+10  280785.28729"
      ]
     },
     "execution_count": 40,
     "metadata": {},
     "output_type": "execute_result"
    }
   ],
   "source": [
    "dt1 = DecisionTreeRegressor(max_depth=7,min_samples_split=15)\n",
    "dt1_res = eval_model(dt1,x_train,y_train,x_test,y_test,'DT_Reg')\n",
    "dt1_res"
   ]
  },
  {
   "cell_type": "markdown",
   "id": "963c3456",
   "metadata": {},
   "source": [
    "##### 5) RF_Reg"
   ]
  },
  {
   "cell_type": "code",
   "execution_count": 41,
   "id": "8642759e",
   "metadata": {},
   "outputs": [
    {
     "data": {
      "text/html": [
       "<div>\n",
       "<style scoped>\n",
       "    .dataframe tbody tr th:only-of-type {\n",
       "        vertical-align: middle;\n",
       "    }\n",
       "\n",
       "    .dataframe tbody tr th {\n",
       "        vertical-align: top;\n",
       "    }\n",
       "\n",
       "    .dataframe thead th {\n",
       "        text-align: right;\n",
       "    }\n",
       "</style>\n",
       "<table border=\"1\" class=\"dataframe\">\n",
       "  <thead>\n",
       "    <tr style=\"text-align: right;\">\n",
       "      <th></th>\n",
       "      <th>Train_R2</th>\n",
       "      <th>Test_R2</th>\n",
       "      <th>Test_MAE</th>\n",
       "      <th>Test_MSE</th>\n",
       "      <th>Test_RMSE</th>\n",
       "    </tr>\n",
       "  </thead>\n",
       "  <tbody>\n",
       "    <tr>\n",
       "      <th>RF_Reg</th>\n",
       "      <td>0.707243</td>\n",
       "      <td>0.60663</td>\n",
       "      <td>158447.320821</td>\n",
       "      <td>6.606614e+10</td>\n",
       "      <td>257033.341739</td>\n",
       "    </tr>\n",
       "  </tbody>\n",
       "</table>\n",
       "</div>"
      ],
      "text/plain": [
       "        Train_R2  Test_R2       Test_MAE      Test_MSE      Test_RMSE\n",
       "RF_Reg  0.707243  0.60663  158447.320821  6.606614e+10  257033.341739"
      ]
     },
     "execution_count": 41,
     "metadata": {},
     "output_type": "execute_result"
    }
   ],
   "source": [
    "rf1 = RandomForestRegressor(n_estimators=80,max_depth=7,min_samples_split=15,random_state=42)\n",
    "rf1_res = eval_model(rf1,x_train,y_train,x_test,y_test,'RF_Reg')\n",
    "rf1_res"
   ]
  },
  {
   "cell_type": "markdown",
   "id": "c236eff6",
   "metadata": {},
   "source": [
    "##### 6) BaggingReg"
   ]
  },
  {
   "cell_type": "code",
   "execution_count": 42,
   "id": "264859c3",
   "metadata": {},
   "outputs": [
    {
     "data": {
      "text/html": [
       "<div>\n",
       "<style scoped>\n",
       "    .dataframe tbody tr th:only-of-type {\n",
       "        vertical-align: middle;\n",
       "    }\n",
       "\n",
       "    .dataframe tbody tr th {\n",
       "        vertical-align: top;\n",
       "    }\n",
       "\n",
       "    .dataframe thead th {\n",
       "        text-align: right;\n",
       "    }\n",
       "</style>\n",
       "<table border=\"1\" class=\"dataframe\">\n",
       "  <thead>\n",
       "    <tr style=\"text-align: right;\">\n",
       "      <th></th>\n",
       "      <th>Train_R2</th>\n",
       "      <th>Test_R2</th>\n",
       "      <th>Test_MAE</th>\n",
       "      <th>Test_MSE</th>\n",
       "      <th>Test_RMSE</th>\n",
       "    </tr>\n",
       "  </thead>\n",
       "  <tbody>\n",
       "    <tr>\n",
       "      <th>Bagging_Reg</th>\n",
       "      <td>0.869511</td>\n",
       "      <td>0.544328</td>\n",
       "      <td>172450.262187</td>\n",
       "      <td>7.652964e+10</td>\n",
       "      <td>276639.901465</td>\n",
       "    </tr>\n",
       "  </tbody>\n",
       "</table>\n",
       "</div>"
      ],
      "text/plain": [
       "             Train_R2   Test_R2       Test_MAE      Test_MSE      Test_RMSE\n",
       "Bagging_Reg  0.869511  0.544328  172450.262187  7.652964e+10  276639.901465"
      ]
     },
     "execution_count": 42,
     "metadata": {},
     "output_type": "execute_result"
    }
   ],
   "source": [
    "bag1 = BaggingRegressor(n_estimators=40,max_features=x_train.shape[1],\n",
    "                        max_samples=x_train.shape[0])\n",
    "bag1_res = eval_model(bag1,x_train,y_train,x_test,y_test,'Bagging_Reg')\n",
    "bag1_res"
   ]
  },
  {
   "cell_type": "markdown",
   "id": "660c42fc",
   "metadata": {},
   "source": [
    "##### 7) AdaBoost Reg"
   ]
  },
  {
   "cell_type": "code",
   "execution_count": 43,
   "id": "ae9f5793",
   "metadata": {},
   "outputs": [
    {
     "data": {
      "text/html": [
       "<div>\n",
       "<style scoped>\n",
       "    .dataframe tbody tr th:only-of-type {\n",
       "        vertical-align: middle;\n",
       "    }\n",
       "\n",
       "    .dataframe tbody tr th {\n",
       "        vertical-align: top;\n",
       "    }\n",
       "\n",
       "    .dataframe thead th {\n",
       "        text-align: right;\n",
       "    }\n",
       "</style>\n",
       "<table border=\"1\" class=\"dataframe\">\n",
       "  <thead>\n",
       "    <tr style=\"text-align: right;\">\n",
       "      <th></th>\n",
       "      <th>Train_R2</th>\n",
       "      <th>Test_R2</th>\n",
       "      <th>Test_MAE</th>\n",
       "      <th>Test_MSE</th>\n",
       "      <th>Test_RMSE</th>\n",
       "    </tr>\n",
       "  </thead>\n",
       "  <tbody>\n",
       "    <tr>\n",
       "      <th>AdaBoost_Reg</th>\n",
       "      <td>0.543793</td>\n",
       "      <td>0.464724</td>\n",
       "      <td>201590.933546</td>\n",
       "      <td>8.989908e+10</td>\n",
       "      <td>299831.746069</td>\n",
       "    </tr>\n",
       "  </tbody>\n",
       "</table>\n",
       "</div>"
      ],
      "text/plain": [
       "              Train_R2   Test_R2       Test_MAE      Test_MSE      Test_RMSE\n",
       "AdaBoost_Reg  0.543793  0.464724  201590.933546  8.989908e+10  299831.746069"
      ]
     },
     "execution_count": 43,
     "metadata": {},
     "output_type": "execute_result"
    }
   ],
   "source": [
    "adab1 = AdaBoostRegressor(n_estimators=70)\n",
    "adab1_res = eval_model(adab1,x_train,y_train,x_test,y_test,'AdaBoost_Reg')\n",
    "adab1_res"
   ]
  },
  {
   "cell_type": "markdown",
   "id": "70db1a10",
   "metadata": {},
   "source": [
    "##### 8) KNN Reg"
   ]
  },
  {
   "cell_type": "code",
   "execution_count": 44,
   "id": "bec2e8d3",
   "metadata": {},
   "outputs": [
    {
     "data": {
      "text/html": [
       "<div>\n",
       "<style scoped>\n",
       "    .dataframe tbody tr th:only-of-type {\n",
       "        vertical-align: middle;\n",
       "    }\n",
       "\n",
       "    .dataframe tbody tr th {\n",
       "        vertical-align: top;\n",
       "    }\n",
       "\n",
       "    .dataframe thead th {\n",
       "        text-align: right;\n",
       "    }\n",
       "</style>\n",
       "<table border=\"1\" class=\"dataframe\">\n",
       "  <thead>\n",
       "    <tr style=\"text-align: right;\">\n",
       "      <th></th>\n",
       "      <th>Train_R2</th>\n",
       "      <th>Test_R2</th>\n",
       "      <th>Test_MAE</th>\n",
       "      <th>Test_MSE</th>\n",
       "      <th>Test_RMSE</th>\n",
       "    </tr>\n",
       "  </thead>\n",
       "  <tbody>\n",
       "    <tr>\n",
       "      <th>KNN_Reg</th>\n",
       "      <td>0.404823</td>\n",
       "      <td>0.248357</td>\n",
       "      <td>219154.427811</td>\n",
       "      <td>1.262376e+11</td>\n",
       "      <td>355299.305504</td>\n",
       "    </tr>\n",
       "  </tbody>\n",
       "</table>\n",
       "</div>"
      ],
      "text/plain": [
       "         Train_R2   Test_R2       Test_MAE      Test_MSE      Test_RMSE\n",
       "KNN_Reg  0.404823  0.248357  219154.427811  1.262376e+11  355299.305504"
      ]
     },
     "execution_count": 44,
     "metadata": {},
     "output_type": "execute_result"
    }
   ],
   "source": [
    "knn1 = KNeighborsRegressor(n_neighbors=7)\n",
    "knn1_res = eval_model(knn1,x_train,y_train,x_test,y_test,'KNN_Reg')\n",
    "knn1_res"
   ]
  },
  {
   "cell_type": "code",
   "execution_count": 45,
   "id": "2e8b3538",
   "metadata": {},
   "outputs": [
    {
     "data": {
      "text/html": [
       "<div>\n",
       "<style scoped>\n",
       "    .dataframe tbody tr th:only-of-type {\n",
       "        vertical-align: middle;\n",
       "    }\n",
       "\n",
       "    .dataframe tbody tr th {\n",
       "        vertical-align: top;\n",
       "    }\n",
       "\n",
       "    .dataframe thead th {\n",
       "        text-align: right;\n",
       "    }\n",
       "</style>\n",
       "<table border=\"1\" class=\"dataframe\">\n",
       "  <thead>\n",
       "    <tr style=\"text-align: right;\">\n",
       "      <th></th>\n",
       "      <th>Train_R2</th>\n",
       "      <th>Test_R2</th>\n",
       "      <th>Test_MAE</th>\n",
       "      <th>Test_MSE</th>\n",
       "      <th>Test_RMSE</th>\n",
       "    </tr>\n",
       "  </thead>\n",
       "  <tbody>\n",
       "    <tr>\n",
       "      <th>Lin_Reg</th>\n",
       "      <td>0.516201</td>\n",
       "      <td>0.505183</td>\n",
       "      <td>192829.064262</td>\n",
       "      <td>8.310390e+10</td>\n",
       "      <td>288277.467230</td>\n",
       "    </tr>\n",
       "    <tr>\n",
       "      <th>Ridge</th>\n",
       "      <td>0.515946</td>\n",
       "      <td>0.507359</td>\n",
       "      <td>192471.642240</td>\n",
       "      <td>8.273843e+10</td>\n",
       "      <td>287642.880447</td>\n",
       "    </tr>\n",
       "    <tr>\n",
       "      <th>Lasso</th>\n",
       "      <td>0.516200</td>\n",
       "      <td>0.505218</td>\n",
       "      <td>192818.103841</td>\n",
       "      <td>8.309803e+10</td>\n",
       "      <td>288267.285243</td>\n",
       "    </tr>\n",
       "    <tr>\n",
       "      <th>DT_Reg</th>\n",
       "      <td>0.705796</td>\n",
       "      <td>0.530569</td>\n",
       "      <td>163027.061051</td>\n",
       "      <td>7.884038e+10</td>\n",
       "      <td>280785.287290</td>\n",
       "    </tr>\n",
       "    <tr>\n",
       "      <th>RF_Reg</th>\n",
       "      <td>0.707243</td>\n",
       "      <td>0.606630</td>\n",
       "      <td>158447.320821</td>\n",
       "      <td>6.606614e+10</td>\n",
       "      <td>257033.341739</td>\n",
       "    </tr>\n",
       "    <tr>\n",
       "      <th>Bagging_Reg</th>\n",
       "      <td>0.869511</td>\n",
       "      <td>0.544328</td>\n",
       "      <td>172450.262187</td>\n",
       "      <td>7.652964e+10</td>\n",
       "      <td>276639.901465</td>\n",
       "    </tr>\n",
       "    <tr>\n",
       "      <th>AdaBoost_Reg</th>\n",
       "      <td>0.543793</td>\n",
       "      <td>0.464724</td>\n",
       "      <td>201590.933546</td>\n",
       "      <td>8.989908e+10</td>\n",
       "      <td>299831.746069</td>\n",
       "    </tr>\n",
       "    <tr>\n",
       "      <th>KNN_Reg</th>\n",
       "      <td>0.404823</td>\n",
       "      <td>0.248357</td>\n",
       "      <td>219154.427811</td>\n",
       "      <td>1.262376e+11</td>\n",
       "      <td>355299.305504</td>\n",
       "    </tr>\n",
       "  </tbody>\n",
       "</table>\n",
       "</div>"
      ],
      "text/plain": [
       "              Train_R2   Test_R2       Test_MAE      Test_MSE      Test_RMSE\n",
       "Lin_Reg       0.516201  0.505183  192829.064262  8.310390e+10  288277.467230\n",
       "Ridge         0.515946  0.507359  192471.642240  8.273843e+10  287642.880447\n",
       "Lasso         0.516200  0.505218  192818.103841  8.309803e+10  288267.285243\n",
       "DT_Reg        0.705796  0.530569  163027.061051  7.884038e+10  280785.287290\n",
       "RF_Reg        0.707243  0.606630  158447.320821  6.606614e+10  257033.341739\n",
       "Bagging_Reg   0.869511  0.544328  172450.262187  7.652964e+10  276639.901465\n",
       "AdaBoost_Reg  0.543793  0.464724  201590.933546  8.989908e+10  299831.746069\n",
       "KNN_Reg       0.404823  0.248357  219154.427811  1.262376e+11  355299.305504"
      ]
     },
     "execution_count": 45,
     "metadata": {},
     "output_type": "execute_result"
    }
   ],
   "source": [
    "res = pd.concat([lr1_res,rid1_res,lasso1_res,dt1_res,rf1_res,bag1_res,adab1_res,knn1_res])\n",
    "res"
   ]
  },
  {
   "cell_type": "markdown",
   "id": "02d7fc26",
   "metadata": {},
   "source": [
    "#### Inference\n",
    "1) Best Model(with Min RMSE) = RF_Reg\n",
    "2) Best Model(with Max Test_R2) = RF_Reg\n",
    "3) Explainatory capability and minimal overfitting = RF_Reg\n",
    "4) Considerate models : RF_Reg\n",
    "\n",
    "#### Best Model selected : RandomForestClassifier"
   ]
  },
  {
   "cell_type": "markdown",
   "id": "e3229e2f",
   "metadata": {},
   "source": [
    "##### Saving the Model"
   ]
  },
  {
   "cell_type": "code",
   "execution_count": 46,
   "id": "b0395091",
   "metadata": {},
   "outputs": [],
   "source": [
    "import pickle"
   ]
  },
  {
   "cell_type": "code",
   "execution_count": 47,
   "id": "f5d9e2af",
   "metadata": {},
   "outputs": [],
   "source": [
    "pickle.dump(rf1,open('rf_model_car_price_09nov.pkl','wb'))"
   ]
  },
  {
   "cell_type": "code",
   "execution_count": 48,
   "id": "9ec8561e",
   "metadata": {},
   "outputs": [],
   "source": [
    "model = pickle.load(open('rf_model_car_price_09nov.pkl','rb'))"
   ]
  },
  {
   "cell_type": "markdown",
   "id": "be4af572",
   "metadata": {},
   "source": [
    "#### Take the original data set and make another dataset by randomly picking 20 data points from the Car dataset and apply the saved model on the same"
   ]
  },
  {
   "cell_type": "code",
   "execution_count": 49,
   "id": "782f295b",
   "metadata": {},
   "outputs": [
    {
     "data": {
      "text/html": [
       "<div>\n",
       "<style scoped>\n",
       "    .dataframe tbody tr th:only-of-type {\n",
       "        vertical-align: middle;\n",
       "    }\n",
       "\n",
       "    .dataframe tbody tr th {\n",
       "        vertical-align: top;\n",
       "    }\n",
       "\n",
       "    .dataframe thead th {\n",
       "        text-align: right;\n",
       "    }\n",
       "</style>\n",
       "<table border=\"1\" class=\"dataframe\">\n",
       "  <thead>\n",
       "    <tr style=\"text-align: right;\">\n",
       "      <th></th>\n",
       "      <th>name</th>\n",
       "      <th>year</th>\n",
       "      <th>selling_price</th>\n",
       "      <th>km_driven</th>\n",
       "      <th>fuel</th>\n",
       "      <th>seller_type</th>\n",
       "      <th>transmission</th>\n",
       "      <th>owner</th>\n",
       "    </tr>\n",
       "  </thead>\n",
       "  <tbody>\n",
       "    <tr>\n",
       "      <th>3978</th>\n",
       "      <td>Tata Manza Aqua Quadrajet BS IV</td>\n",
       "      <td>2010</td>\n",
       "      <td>165000</td>\n",
       "      <td>80000</td>\n",
       "      <td>Diesel</td>\n",
       "      <td>Individual</td>\n",
       "      <td>Manual</td>\n",
       "      <td>First Owner</td>\n",
       "    </tr>\n",
       "    <tr>\n",
       "      <th>1448</th>\n",
       "      <td>Renault KWID RXT BSIV</td>\n",
       "      <td>2019</td>\n",
       "      <td>250000</td>\n",
       "      <td>27000</td>\n",
       "      <td>Petrol</td>\n",
       "      <td>Individual</td>\n",
       "      <td>Manual</td>\n",
       "      <td>First Owner</td>\n",
       "    </tr>\n",
       "    <tr>\n",
       "      <th>2664</th>\n",
       "      <td>Hyundai Santro Xing GL Plus</td>\n",
       "      <td>2008</td>\n",
       "      <td>120000</td>\n",
       "      <td>41723</td>\n",
       "      <td>Petrol</td>\n",
       "      <td>Individual</td>\n",
       "      <td>Manual</td>\n",
       "      <td>Second Owner</td>\n",
       "    </tr>\n",
       "    <tr>\n",
       "      <th>17</th>\n",
       "      <td>Honda Amaze VX i-DTEC</td>\n",
       "      <td>2014</td>\n",
       "      <td>450000</td>\n",
       "      <td>141000</td>\n",
       "      <td>Diesel</td>\n",
       "      <td>Individual</td>\n",
       "      <td>Manual</td>\n",
       "      <td>Second Owner</td>\n",
       "    </tr>\n",
       "    <tr>\n",
       "      <th>1634</th>\n",
       "      <td>Mahindra TUV 300 T8 AMT</td>\n",
       "      <td>2016</td>\n",
       "      <td>730000</td>\n",
       "      <td>60000</td>\n",
       "      <td>Diesel</td>\n",
       "      <td>Individual</td>\n",
       "      <td>Automatic</td>\n",
       "      <td>Second Owner</td>\n",
       "    </tr>\n",
       "    <tr>\n",
       "      <th>881</th>\n",
       "      <td>Maruti Alto LX</td>\n",
       "      <td>2012</td>\n",
       "      <td>155000</td>\n",
       "      <td>19077</td>\n",
       "      <td>Petrol</td>\n",
       "      <td>Individual</td>\n",
       "      <td>Manual</td>\n",
       "      <td>Second Owner</td>\n",
       "    </tr>\n",
       "    <tr>\n",
       "      <th>134</th>\n",
       "      <td>Ford Figo Aspire 1.2 Ti-VCT Titanium Plus</td>\n",
       "      <td>2015</td>\n",
       "      <td>530000</td>\n",
       "      <td>14272</td>\n",
       "      <td>Petrol</td>\n",
       "      <td>Dealer</td>\n",
       "      <td>Manual</td>\n",
       "      <td>First Owner</td>\n",
       "    </tr>\n",
       "    <tr>\n",
       "      <th>2338</th>\n",
       "      <td>Maruti Alto 800 LXI</td>\n",
       "      <td>2013</td>\n",
       "      <td>92800</td>\n",
       "      <td>25000</td>\n",
       "      <td>Petrol</td>\n",
       "      <td>Individual</td>\n",
       "      <td>Manual</td>\n",
       "      <td>Second Owner</td>\n",
       "    </tr>\n",
       "    <tr>\n",
       "      <th>1992</th>\n",
       "      <td>Maruti Swift Dzire VDI</td>\n",
       "      <td>2016</td>\n",
       "      <td>284000</td>\n",
       "      <td>40000</td>\n",
       "      <td>Diesel</td>\n",
       "      <td>Individual</td>\n",
       "      <td>Manual</td>\n",
       "      <td>Second Owner</td>\n",
       "    </tr>\n",
       "    <tr>\n",
       "      <th>2886</th>\n",
       "      <td>Ford Figo 1.2P Titanium Plus MT</td>\n",
       "      <td>2012</td>\n",
       "      <td>260000</td>\n",
       "      <td>42000</td>\n",
       "      <td>Petrol</td>\n",
       "      <td>Dealer</td>\n",
       "      <td>Manual</td>\n",
       "      <td>First Owner</td>\n",
       "    </tr>\n",
       "    <tr>\n",
       "      <th>3827</th>\n",
       "      <td>Maruti Baleno Delta Diesel</td>\n",
       "      <td>2015</td>\n",
       "      <td>511000</td>\n",
       "      <td>58000</td>\n",
       "      <td>Diesel</td>\n",
       "      <td>Dealer</td>\n",
       "      <td>Manual</td>\n",
       "      <td>First Owner</td>\n",
       "    </tr>\n",
       "    <tr>\n",
       "      <th>2704</th>\n",
       "      <td>Toyota Fortuner 4x2 Manual</td>\n",
       "      <td>2014</td>\n",
       "      <td>1800000</td>\n",
       "      <td>50000</td>\n",
       "      <td>Diesel</td>\n",
       "      <td>Individual</td>\n",
       "      <td>Manual</td>\n",
       "      <td>First Owner</td>\n",
       "    </tr>\n",
       "    <tr>\n",
       "      <th>1056</th>\n",
       "      <td>Mahindra Bolero Power Plus Plus AC BSIV PS</td>\n",
       "      <td>2015</td>\n",
       "      <td>320000</td>\n",
       "      <td>50000</td>\n",
       "      <td>Diesel</td>\n",
       "      <td>Individual</td>\n",
       "      <td>Manual</td>\n",
       "      <td>Third Owner</td>\n",
       "    </tr>\n",
       "    <tr>\n",
       "      <th>4153</th>\n",
       "      <td>Skoda Octavia Ambiente 1.9 TDI MT</td>\n",
       "      <td>2002</td>\n",
       "      <td>90000</td>\n",
       "      <td>116000</td>\n",
       "      <td>Diesel</td>\n",
       "      <td>Individual</td>\n",
       "      <td>Manual</td>\n",
       "      <td>Second Owner</td>\n",
       "    </tr>\n",
       "    <tr>\n",
       "      <th>1618</th>\n",
       "      <td>Toyota Yaris G</td>\n",
       "      <td>2018</td>\n",
       "      <td>850000</td>\n",
       "      <td>19107</td>\n",
       "      <td>Petrol</td>\n",
       "      <td>Trustmark Dealer</td>\n",
       "      <td>Manual</td>\n",
       "      <td>First Owner</td>\n",
       "    </tr>\n",
       "    <tr>\n",
       "      <th>857</th>\n",
       "      <td>Maruti Ignis 1.2 Alpha BSIV</td>\n",
       "      <td>2017</td>\n",
       "      <td>500000</td>\n",
       "      <td>9161</td>\n",
       "      <td>Petrol</td>\n",
       "      <td>Individual</td>\n",
       "      <td>Manual</td>\n",
       "      <td>First Owner</td>\n",
       "    </tr>\n",
       "    <tr>\n",
       "      <th>3947</th>\n",
       "      <td>Ford Figo Aspire Facelift</td>\n",
       "      <td>2018</td>\n",
       "      <td>624000</td>\n",
       "      <td>14681</td>\n",
       "      <td>Diesel</td>\n",
       "      <td>Dealer</td>\n",
       "      <td>Manual</td>\n",
       "      <td>First Owner</td>\n",
       "    </tr>\n",
       "    <tr>\n",
       "      <th>3600</th>\n",
       "      <td>BMW X1 sDrive20d</td>\n",
       "      <td>2012</td>\n",
       "      <td>750000</td>\n",
       "      <td>100000</td>\n",
       "      <td>Diesel</td>\n",
       "      <td>Individual</td>\n",
       "      <td>Automatic</td>\n",
       "      <td>Second Owner</td>\n",
       "    </tr>\n",
       "    <tr>\n",
       "      <th>371</th>\n",
       "      <td>Chevrolet Spark 1.0</td>\n",
       "      <td>2009</td>\n",
       "      <td>125000</td>\n",
       "      <td>70000</td>\n",
       "      <td>Petrol</td>\n",
       "      <td>Individual</td>\n",
       "      <td>Manual</td>\n",
       "      <td>First Owner</td>\n",
       "    </tr>\n",
       "    <tr>\n",
       "      <th>3809</th>\n",
       "      <td>Skoda Superb Ambition 2.0 TDI CR AT</td>\n",
       "      <td>2013</td>\n",
       "      <td>675000</td>\n",
       "      <td>88000</td>\n",
       "      <td>Diesel</td>\n",
       "      <td>Dealer</td>\n",
       "      <td>Automatic</td>\n",
       "      <td>First Owner</td>\n",
       "    </tr>\n",
       "  </tbody>\n",
       "</table>\n",
       "</div>"
      ],
      "text/plain": [
       "                                            name  year  selling_price  \\\n",
       "3978             Tata Manza Aqua Quadrajet BS IV  2010         165000   \n",
       "1448                       Renault KWID RXT BSIV  2019         250000   \n",
       "2664                 Hyundai Santro Xing GL Plus  2008         120000   \n",
       "17                         Honda Amaze VX i-DTEC  2014         450000   \n",
       "1634                     Mahindra TUV 300 T8 AMT  2016         730000   \n",
       "881                               Maruti Alto LX  2012         155000   \n",
       "134    Ford Figo Aspire 1.2 Ti-VCT Titanium Plus  2015         530000   \n",
       "2338                         Maruti Alto 800 LXI  2013          92800   \n",
       "1992                      Maruti Swift Dzire VDI  2016         284000   \n",
       "2886             Ford Figo 1.2P Titanium Plus MT  2012         260000   \n",
       "3827                  Maruti Baleno Delta Diesel  2015         511000   \n",
       "2704                  Toyota Fortuner 4x2 Manual  2014        1800000   \n",
       "1056  Mahindra Bolero Power Plus Plus AC BSIV PS  2015         320000   \n",
       "4153           Skoda Octavia Ambiente 1.9 TDI MT  2002          90000   \n",
       "1618                              Toyota Yaris G  2018         850000   \n",
       "857                  Maruti Ignis 1.2 Alpha BSIV  2017         500000   \n",
       "3947                   Ford Figo Aspire Facelift  2018         624000   \n",
       "3600                            BMW X1 sDrive20d  2012         750000   \n",
       "371                          Chevrolet Spark 1.0  2009         125000   \n",
       "3809         Skoda Superb Ambition 2.0 TDI CR AT  2013         675000   \n",
       "\n",
       "      km_driven    fuel       seller_type transmission         owner  \n",
       "3978      80000  Diesel        Individual       Manual   First Owner  \n",
       "1448      27000  Petrol        Individual       Manual   First Owner  \n",
       "2664      41723  Petrol        Individual       Manual  Second Owner  \n",
       "17       141000  Diesel        Individual       Manual  Second Owner  \n",
       "1634      60000  Diesel        Individual    Automatic  Second Owner  \n",
       "881       19077  Petrol        Individual       Manual  Second Owner  \n",
       "134       14272  Petrol            Dealer       Manual   First Owner  \n",
       "2338      25000  Petrol        Individual       Manual  Second Owner  \n",
       "1992      40000  Diesel        Individual       Manual  Second Owner  \n",
       "2886      42000  Petrol            Dealer       Manual   First Owner  \n",
       "3827      58000  Diesel            Dealer       Manual   First Owner  \n",
       "2704      50000  Diesel        Individual       Manual   First Owner  \n",
       "1056      50000  Diesel        Individual       Manual   Third Owner  \n",
       "4153     116000  Diesel        Individual       Manual  Second Owner  \n",
       "1618      19107  Petrol  Trustmark Dealer       Manual   First Owner  \n",
       "857        9161  Petrol        Individual       Manual   First Owner  \n",
       "3947      14681  Diesel            Dealer       Manual   First Owner  \n",
       "3600     100000  Diesel        Individual    Automatic  Second Owner  \n",
       "371       70000  Petrol        Individual       Manual   First Owner  \n",
       "3809      88000  Diesel            Dealer    Automatic   First Owner  "
      ]
     },
     "execution_count": 49,
     "metadata": {},
     "output_type": "execute_result"
    }
   ],
   "source": [
    "base_dataset = pd.read_csv('CAR_DETAILS.csv')\n",
    "# Randomly select 20 data points\n",
    "new_dataset = base_dataset.sample(n=20, random_state=42)\n",
    "new_dataset"
   ]
  },
  {
   "cell_type": "code",
   "execution_count": 50,
   "id": "a4044a95",
   "metadata": {},
   "outputs": [
    {
     "name": "stdout",
     "output_type": "stream",
     "text": [
      "                                            name  year  selling_price  \\\n",
      "3978             Tata Manza Aqua Quadrajet BS IV  2010         165000   \n",
      "1448                       Renault KWID RXT BSIV  2019         250000   \n",
      "2664                 Hyundai Santro Xing GL Plus  2008         120000   \n",
      "17                         Honda Amaze VX i-DTEC  2014         450000   \n",
      "1634                     Mahindra TUV 300 T8 AMT  2016         730000   \n",
      "881                               Maruti Alto LX  2012         155000   \n",
      "134    Ford Figo Aspire 1.2 Ti-VCT Titanium Plus  2015         530000   \n",
      "2338                         Maruti Alto 800 LXI  2013          92800   \n",
      "1992                      Maruti Swift Dzire VDI  2016         284000   \n",
      "2886             Ford Figo 1.2P Titanium Plus MT  2012         260000   \n",
      "3827                  Maruti Baleno Delta Diesel  2015         511000   \n",
      "2704                  Toyota Fortuner 4x2 Manual  2014        1800000   \n",
      "1056  Mahindra Bolero Power Plus Plus AC BSIV PS  2015         320000   \n",
      "4153           Skoda Octavia Ambiente 1.9 TDI MT  2002          90000   \n",
      "1618                              Toyota Yaris G  2018         850000   \n",
      "857                  Maruti Ignis 1.2 Alpha BSIV  2017         500000   \n",
      "3947                   Ford Figo Aspire Facelift  2018         624000   \n",
      "3600                            BMW X1 sDrive20d  2012         750000   \n",
      "371                          Chevrolet Spark 1.0  2009         125000   \n",
      "3809         Skoda Superb Ambition 2.0 TDI CR AT  2013         675000   \n",
      "\n",
      "      km_driven  fuel  seller_type  transmission  owner  predicted_target  \n",
      "3978      80000     0            1             1      0      2.362059e+05  \n",
      "1448      27000     1            1             1      0      8.832648e+05  \n",
      "2664      41723     1            1             1      1      2.049146e+05  \n",
      "17       141000     0            1             1      1      4.750062e+05  \n",
      "1634      60000     0            1             0      1      1.725800e+06  \n",
      "881       19077     1            1             1      1      3.679789e+05  \n",
      "134       14272     1            0             1      0      6.113695e+05  \n",
      "2338      25000     1            1             1      1      3.824017e+05  \n",
      "1992      40000     0            1             1      1      5.515715e+05  \n",
      "2886      42000     1            0             1      0      4.209395e+05  \n",
      "3827      58000     0            0             1      0      5.139622e+05  \n",
      "2704      50000     0            1             1      0      5.392171e+05  \n",
      "1056      50000     0            1             1      2      5.166062e+05  \n",
      "4153     116000     0            1             1      1      1.291820e+05  \n",
      "1618      19107     1            2             1      0      9.839341e+05  \n",
      "857        9161     1            1             1      0      9.522515e+05  \n",
      "3947      14681     0            0             1      0      5.185571e+05  \n",
      "3600     100000     0            1             0      1      1.330177e+06  \n",
      "371       70000     1            1             1      0      2.427334e+05  \n",
      "3809      88000     0            0             0      0      1.356772e+06  \n"
     ]
    }
   ],
   "source": [
    "# Load the saved model\n",
    "loaded_model = pickle.load(open('rf_model_car_price_09nov.pkl','rb'))\n",
    "\n",
    "lb = LabelEncoder()\n",
    "for i in ['fuel', 'seller_type', 'transmission', 'owner']:\n",
    "    new_dataset[i] = lb.fit_transform(new_dataset[i])    \n",
    "x_new= new_dataset.drop(['name','selling_price'],axis=1)\n",
    "y_new = new_dataset['selling_price']\n",
    "predictions = loaded_model.predict(x_new)\n",
    "# Display the new dataset with prediction\n",
    "new_dataset_with_predictions = new_dataset.copy()\n",
    "new_dataset_with_predictions['predicted_target'] = predictions\n",
    "print(new_dataset_with_predictions)"
   ]
  },
  {
   "cell_type": "code",
   "execution_count": null,
   "id": "122bcfdc",
   "metadata": {},
   "outputs": [],
   "source": []
  }
 ],
 "metadata": {
  "kernelspec": {
   "display_name": "Python 3 (ipykernel)",
   "language": "python",
   "name": "python3"
  },
  "language_info": {
   "codemirror_mode": {
    "name": "ipython",
    "version": 3
   },
   "file_extension": ".py",
   "mimetype": "text/x-python",
   "name": "python",
   "nbconvert_exporter": "python",
   "pygments_lexer": "ipython3",
   "version": "3.11.5"
  }
 },
 "nbformat": 4,
 "nbformat_minor": 5
}
